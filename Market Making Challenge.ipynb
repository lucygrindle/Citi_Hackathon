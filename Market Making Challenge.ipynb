{
 "cells": [
  {
   "cell_type": "markdown",
   "metadata": {},
   "source": [
    "---"
   ]
  },
  {
   "cell_type": "markdown",
   "metadata": {
    "deletable": false,
    "editable": false,
    "nbgrader": {
     "cell_type": "markdown",
     "checksum": "53ba1c3b77081e0478174bc8b7f551fb",
     "grade": false,
     "grade_id": "cell-14a928e807244ec5",
     "locked": true,
     "schema_version": 3,
     "solution": false,
     "task": false
    }
   },
   "source": [
    "![](Header.png)"
   ]
  },
  {
   "cell_type": "markdown",
   "metadata": {
    "deletable": false,
    "editable": false,
    "nbgrader": {
     "cell_type": "markdown",
     "checksum": "9d71d9c6b65e7cec262b6a71d24c5776",
     "grade": false,
     "grade_id": "cell-9d02e3a9d3423fef",
     "locked": true,
     "schema_version": 3,
     "solution": false,
     "task": false
    }
   },
   "source": [
    "# Market Making Coding Challenge Event Day"
   ]
  },
  {
   "cell_type": "code",
   "execution_count": 1,
   "metadata": {
    "deletable": false,
    "editable": false,
    "nbgrader": {
     "cell_type": "code",
     "checksum": "249ed7af0adef92a2340d1cd7f93d053",
     "grade": false,
     "grade_id": "cell-4a7a0335193cf40f",
     "locked": true,
     "schema_version": 3,
     "solution": false,
     "task": false
    }
   },
   "outputs": [],
   "source": [
    "from AmplifyQuantTrading import Data\n",
    "from AmplifyQuantTrading import Exchange\n",
    "from AmplifyQuantTrading import MarketMaker\n",
    "from AmplifyQuantTrading import HedgeFund as hf\n",
    "from matplotlib import pyplot as plt\n",
    "from pandas import *"
   ]
  },
  {
   "cell_type": "markdown",
   "metadata": {
    "deletable": false,
    "editable": false,
    "nbgrader": {
     "cell_type": "markdown",
     "checksum": "00a0a527b10a7ecd3e11b0ac40e1518c",
     "grade": false,
     "grade_id": "cell-52233edb0fa821a7",
     "locked": true,
     "schema_version": 3,
     "solution": false,
     "task": false
    }
   },
   "source": [
    "## Inital Setup\n",
    "### **QuotedTrade object**\n",
    "This object will be used to quote trades and send them to the hedge funds. The object contains the following attributes:\n",
    "* ticker: String\n",
    "* tradeVolume: Integer\n",
    "* refPrice: Float\n",
    "* bidPrice: Float\n",
    "* offerPrice: Float\n",
    "* date: Integer"
   ]
  },
  {
   "cell_type": "code",
   "execution_count": 2,
   "metadata": {
    "deletable": false,
    "editable": false,
    "nbgrader": {
     "cell_type": "code",
     "checksum": "1916884c6949bbec61614914b4897751",
     "grade": false,
     "grade_id": "cell-72c52dc77d98b645",
     "locked": true,
     "schema_version": 3,
     "solution": false,
     "task": false
    }
   },
   "outputs": [],
   "source": [
    "class QuotedTrade:\n",
    "    def __init__(self, ticker, tradeVolume, refPrice, bidPrice, offerPrice, date):\n",
    "        self.ticker = ticker\n",
    "        self.tradeVolume = tradeVolume\n",
    "        self.refPrice = refPrice\n",
    "        self.bidPrice = bidPrice\n",
    "        self.offerPrice = offerPrice\n",
    "        self.date = date "
   ]
  },
  {
   "cell_type": "markdown",
   "metadata": {
    "deletable": false,
    "editable": false,
    "nbgrader": {
     "cell_type": "markdown",
     "checksum": "5a68eaafd1b93f43533bc0b8a4c31533",
     "grade": false,
     "grade_id": "cell-9041dc3c12f13b87",
     "locked": true,
     "schema_version": 3,
     "solution": false,
     "task": false
    }
   },
   "source": [
    "### Create 2 more objects to be used during this event following a similar structure to the QuoteTrade class.\n",
    "**Create an CompletedTrade object**\n",
    "This object will be used to log successful quotedTrades to the market maker object. The object should contain the following attributes:\n",
    "* ticker: String\n",
    "* tradeVolume: Integer\n",
    "* tradePrice: Float\n",
    "* mmAction: String\n",
    "* date: Integer\n",
    "\n",
    "**Create an ExchangeTrade object**\n",
    "This will be used to create a trade that will be executed using the exchange. The object should contain the following attributes:\n",
    "* ticker: String\n",
    "* tradeVolume: Integer\n",
    "* refPrice: Float\n",
    "* action: String\n",
    "* date: Integer"
   ]
  },
  {
   "cell_type": "code",
   "execution_count": 3,
   "metadata": {
    "deletable": false,
    "nbgrader": {
     "cell_type": "code",
     "checksum": "f1dae6f196d9a63308626a19ff5136cf",
     "grade": false,
     "grade_id": "cell-4f2b6752cbf514db",
     "locked": false,
     "schema_version": 3,
     "solution": true,
     "task": false
    }
   },
   "outputs": [],
   "source": [
    "class CompletedTrade:\n",
    "    def __init__(self,ticker, tradeVolume, tradePrice, mmAction, date):\n",
    "        self.ticker = ticker\n",
    "        self.tradeVolume = tradeVolume\n",
    "        self.tradePrice = tradePrice\n",
    "        self.mmAction = mmAction\n",
    "        self.date = date"
   ]
  },
  {
   "cell_type": "code",
   "execution_count": 4,
   "metadata": {},
   "outputs": [],
   "source": [
    "class ExchangeTrade:\n",
    "    def __init__(self,ticker, tradeVolume, refPrice, action, date):\n",
    "        self.ticker = ticker\n",
    "        self.tradeVolume = tradeVolume\n",
    "        self.refPrice = refPrice\n",
    "        self.action = action\n",
    "        self.date = date"
   ]
  },
  {
   "cell_type": "markdown",
   "metadata": {
    "deletable": false,
    "editable": false,
    "nbgrader": {
     "cell_type": "markdown",
     "checksum": "d785174a96c58bd0b884796a22c2674f",
     "grade": false,
     "grade_id": "986049254f29a043",
     "locked": true,
     "schema_version": 3,
     "solution": false,
     "task": false
    }
   },
   "source": [
    "# Level One - Coordinator Guided\n",
    "## 1. Interpreting trades and giving non-skewed price responses"
   ]
  },
  {
   "cell_type": "code",
   "execution_count": 5,
   "metadata": {
    "deletable": false,
    "editable": false,
    "nbgrader": {
     "cell_type": "code",
     "checksum": "217305640c1c0cf9ebf2c656e4c82d7b",
     "grade": false,
     "grade_id": "cell-9baf2c67e380131a",
     "locked": true,
     "schema_version": 3,
     "solution": false,
     "task": false
    }
   },
   "outputs": [],
   "source": [
    "prices = Data.priceSeries()\n",
    "priceRequests = Data.priceRequests()"
   ]
  },
  {
   "cell_type": "markdown",
   "metadata": {
    "deletable": false,
    "editable": false,
    "nbgrader": {
     "cell_type": "markdown",
     "checksum": "47715f403092087cdd9a927062d86690",
     "grade": false,
     "grade_id": "cell-6d01bcc8e93638af",
     "locked": true,
     "schema_version": 3,
     "solution": false,
     "task": false
    }
   },
   "source": [
    "### a) Iterate through the first ten prices and price requests\n",
    "\n",
    "#### Complete the functions below called *loopPrices* and *loopRequests* to access the data from the objects initialised above and store them in two lists."
   ]
  },
  {
   "cell_type": "code",
   "execution_count": 6,
   "metadata": {
    "deletable": false,
    "editable": false,
    "nbgrader": {
     "cell_type": "code",
     "checksum": "d0725c12a239ce6c5775bec5da21feed",
     "grade": false,
     "grade_id": "cell-9bdafaf242375e9d",
     "locked": true,
     "schema_version": 3,
     "solution": false,
     "task": false
    }
   },
   "outputs": [],
   "source": [
    "firstTenPrices = []"
   ]
  },
  {
   "cell_type": "code",
   "execution_count": 7,
   "metadata": {
    "deletable": false,
    "nbgrader": {
     "cell_type": "code",
     "checksum": "14925b8730ebb70c38098ce8ececebc1",
     "grade": false,
     "grade_id": "cell-99b8ed7168ecabab",
     "locked": false,
     "schema_version": 3,
     "solution": true,
     "task": false
    }
   },
   "outputs": [
    {
     "name": "stdout",
     "output_type": "stream",
     "text": [
      "[['AAPL', 0, 74.7], ['FAANG', 0, 117.0], ['FB', 0, 194.44], ['AAPL', 5000, 74.81399], ['FAANG', 5000, 117.2705], ['FB', 5000, 193.5296], ['AAPL', 10000, 74.63035], ['FAANG', 10000, 120.3612], ['FB', 10000, 195.9118], ['AAPL', 15000, 73.83297]]\n"
     ]
    }
   ],
   "source": [
    "for x in range(0,10):\n",
    "    price = prices[x]\n",
    "    firstTenPrices.append(price)\n",
    "    \n",
    "#check \n",
    "print(firstTenPrices)"
   ]
  },
  {
   "cell_type": "code",
   "execution_count": 8,
   "metadata": {
    "deletable": false,
    "editable": false,
    "nbgrader": {
     "cell_type": "code",
     "checksum": "4014839dc05ce857a6b6da233266df1b",
     "grade": false,
     "grade_id": "cell-cbb785803e150063",
     "locked": true,
     "schema_version": 3,
     "solution": false,
     "task": false
    }
   },
   "outputs": [],
   "source": [
    "firstTenRequests = []"
   ]
  },
  {
   "cell_type": "code",
   "execution_count": 9,
   "metadata": {
    "deletable": false,
    "nbgrader": {
     "cell_type": "code",
     "checksum": "690645bca96b3031705e3fe213e4e11c",
     "grade": false,
     "grade_id": "cell-e79bcbae1edd6fa8",
     "locked": false,
     "schema_version": 3,
     "solution": true,
     "task": false
    }
   },
   "outputs": [
    {
     "name": "stdout",
     "output_type": "stream",
     "text": [
      "[['FB', 0, 423], ['AAPL', 10000, 2808], ['FB', 30000, 1375], ['FB', 70000, 753], ['AAPL', 105000, 4145], ['AAPL', 110000, 949], ['FB', 115000, 89], ['AAPL', 120000, 1204], ['FB', 130000, 1725], ['FB', 150000, 2363]]\n"
     ]
    }
   ],
   "source": [
    "for x in range(0,10):\n",
    "    request = priceRequests[x]\n",
    "    firstTenRequests.append(request)\n",
    "    \n",
    "#check \n",
    "print(firstTenRequests)"
   ]
  },
  {
   "cell_type": "code",
   "execution_count": 10,
   "metadata": {
    "deletable": false,
    "editable": false,
    "nbgrader": {
     "cell_type": "code",
     "checksum": "f004b3e7a75e30a1fd031b52c7f51360",
     "grade": true,
     "grade_id": "cell-e9a97c2f5d8e24e9",
     "locked": true,
     "points": 1,
     "schema_version": 3,
     "solution": false,
     "task": false
    }
   },
   "outputs": [
    {
     "name": "stdout",
     "output_type": "stream",
     "text": [
      "Submission ready\n"
     ]
    }
   ],
   "source": [
    "def Submit(firstTenPrices, firstTenRequests):\n",
    "    print(\"Submission ready\")\n",
    "a_score = Submit(firstTenPrices, firstTenRequests)\n"
   ]
  },
  {
   "cell_type": "markdown",
   "metadata": {
    "deletable": false,
    "editable": false,
    "nbgrader": {
     "cell_type": "markdown",
     "checksum": "c11059875230880bfb8c79ed05ef1c7e",
     "grade": false,
     "grade_id": "cell-1d4449695087e718",
     "locked": true,
     "schema_version": 3,
     "solution": false,
     "task": false
    }
   },
   "source": [
    "### b) Identify the reference prices for the first ten orders\n",
    "\n",
    "#### Complete the function below to iterate through the *price requests* and match them with the relevant *date* in the *prices*. Store these reference prices and price requests in an list.\n",
    "\n",
    "#### matchedPriceRequests should be in the format [ ([price requests], refPrice), ([price requests], refPrice), ...  ]"
   ]
  },
  {
   "cell_type": "code",
   "execution_count": 11,
   "metadata": {
    "deletable": false,
    "editable": false,
    "nbgrader": {
     "cell_type": "code",
     "checksum": "f74562acd40eb0d31a0081eb828bb413",
     "grade": false,
     "grade_id": "cell-b56b7fa1431f6b80",
     "locked": true,
     "schema_version": 3,
     "solution": false,
     "task": false
    }
   },
   "outputs": [],
   "source": [
    "matchedPriceRequests = []"
   ]
  },
  {
   "cell_type": "code",
   "execution_count": 12,
   "metadata": {
    "deletable": false,
    "nbgrader": {
     "cell_type": "code",
     "checksum": "6ddad165b11e845e74ce938339ed34c9",
     "grade": false,
     "grade_id": "cell-0477647161607c09",
     "locked": false,
     "schema_version": 3,
     "solution": true,
     "task": false
    }
   },
   "outputs": [
    {
     "name": "stdout",
     "output_type": "stream",
     "text": [
      "[(['FB', 0, 423], 194.44), (['AAPL', 10000, 2808], 74.63035), (['FB', 30000, 1375], 195.7548), (['FB', 70000, 753], 193.3018), (['AAPL', 105000, 4145], 73.13032), (['AAPL', 110000, 949], 73.83167), (['FB', 115000, 89], 185.76), (['AAPL', 120000, 1204], 76.55568), (['FB', 130000, 1725], 191.3214), (['FB', 150000, 2363], 195.8163)]\n"
     ]
    }
   ],
   "source": [
    "for request in firstTenRequests:\n",
    "    for price in prices:\n",
    "        if request[0] == price[0] and request[1] == price[1]: #if tickers and date match\n",
    "            #print(\"Request\", request)\n",
    "            #print(\"Price\", price)\n",
    "            matchedPriceRequests.append((request, price[2])) # becuase refPrice is second in list\n",
    "print(matchedPriceRequests)"
   ]
  },
  {
   "cell_type": "code",
   "execution_count": 13,
   "metadata": {
    "deletable": false,
    "editable": false,
    "nbgrader": {
     "cell_type": "code",
     "checksum": "1f2346f129f105cb581cc57a03d72e52",
     "grade": true,
     "grade_id": "cell-f12ce7c5321e77ae",
     "locked": true,
     "points": 1,
     "schema_version": 3,
     "solution": false,
     "task": false
    }
   },
   "outputs": [
    {
     "name": "stdout",
     "output_type": "stream",
     "text": [
      "Submission ready\n"
     ]
    }
   ],
   "source": [
    "def Submit(matchedPriceRequests, firstTenRequests):\n",
    "    print(\"Submission ready\")\n",
    "b_score = Submit(matchedPriceRequests, firstTenRequests)\n"
   ]
  },
  {
   "cell_type": "markdown",
   "metadata": {
    "deletable": false,
    "editable": false,
    "nbgrader": {
     "cell_type": "markdown",
     "checksum": "1b372e01bddd779350b2c9b6e2942c80",
     "grade": false,
     "grade_id": "cell-9d946755bc1a9840",
     "locked": true,
     "schema_version": 3,
     "solution": false,
     "task": false
    }
   },
   "source": [
    "### c) Create a non-skewed bid and ask QuotedTrade objects for the first ten orders\n",
    "\n",
    "#### Using the *matchedPriceRequests* list created from the previous task, use the data available to you to create QuotedTrade objects with a non-skewed bid and ask and store them in an lists."
   ]
  },
  {
   "cell_type": "code",
   "execution_count": 14,
   "metadata": {
    "deletable": false,
    "editable": false,
    "nbgrader": {
     "cell_type": "code",
     "checksum": "ecad19829f295761410d7e4a7f28896f",
     "grade": false,
     "grade_id": "cell-e65e21327f1e8616",
     "locked": true,
     "schema_version": 3,
     "solution": false,
     "task": false
    }
   },
   "outputs": [],
   "source": [
    "quotedTrades = []"
   ]
  },
  {
   "cell_type": "markdown",
   "metadata": {},
   "source": [
    "ticker: String\n",
    "tradeVolume: Integer\n",
    "tradePrice: Float\n",
    "mmAction: String\n",
    "date: Integer"
   ]
  },
  {
   "cell_type": "code",
   "execution_count": 15,
   "metadata": {
    "deletable": false,
    "nbgrader": {
     "cell_type": "code",
     "checksum": "88075ddb8d98537fb3a033cea7db59e3",
     "grade": false,
     "grade_id": "cell-d5d31114b6fa1780",
     "locked": false,
     "schema_version": 3,
     "solution": true,
     "task": false
    }
   },
   "outputs": [
    {
     "name": "stdout",
     "output_type": "stream",
     "text": [
      "[<__main__.QuotedTrade object at 0x7ff71ae3c0d0>, <__main__.QuotedTrade object at 0x7ff71ae3c310>, <__main__.QuotedTrade object at 0x7ff71ae3c2d0>, <__main__.QuotedTrade object at 0x7ff71ae3c250>, <__main__.QuotedTrade object at 0x7ff71ae3c290>, <__main__.QuotedTrade object at 0x7ff71ae3c190>, <__main__.QuotedTrade object at 0x7ff71ae3c210>, <__main__.QuotedTrade object at 0x7ff71ae3c110>, <__main__.QuotedTrade object at 0x7ff71ae3c090>, <__main__.QuotedTrade object at 0x7ff71ae3c1d0>]\n"
     ]
    }
   ],
   "source": [
    "for request in matchedPriceRequests:\n",
    "    req = request[0] #seperate the item into 2 things\n",
    "    refPrice = request[1]\n",
    "    bidPrice = refPrice * 0.98\n",
    "    offerPrice = refPrice *1.02\n",
    "    quote = QuotedTrade(req[0], req[2], refPrice, bidPrice, offerPrice, req[1])\n",
    "    quotedTrades.append(quote)\n",
    "    \n",
    "print(quotedTrades)"
   ]
  },
  {
   "cell_type": "code",
   "execution_count": 16,
   "metadata": {
    "deletable": false,
    "editable": false,
    "nbgrader": {
     "cell_type": "code",
     "checksum": "603107026044805b9607fbb0a7cb6438",
     "grade": true,
     "grade_id": "cell-106ce2201a6a2fbc",
     "locked": true,
     "points": 1,
     "schema_version": 3,
     "solution": false,
     "task": false
    }
   },
   "outputs": [
    {
     "name": "stdout",
     "output_type": "stream",
     "text": [
      "Submission ready\n"
     ]
    }
   ],
   "source": [
    "def Submit(quotedTrades):\n",
    "    print(\"Submission ready\")\n",
    "c_score = Submit(quotedTrades)\n"
   ]
  },
  {
   "cell_type": "markdown",
   "metadata": {
    "deletable": false,
    "editable": false,
    "nbgrader": {
     "cell_type": "markdown",
     "checksum": "1ff9fd2a5a37bbf7cd73c496f52df9e9",
     "grade": false,
     "grade_id": "cell-3ec62f4d803fadfe",
     "locked": true,
     "schema_version": 3,
     "solution": false,
     "task": false
    }
   },
   "source": [
    "### d) Initialise and interact with the HF object to receive trade responses from your quotedTrades\n",
    "\n",
    "#### Using the *quotedTrades* list, initialise and interact with the HF object to receive a \"Buy, Sell, No Trade\" response from the HF and store these *completedTrades* in an list."
   ]
  },
  {
   "cell_type": "code",
   "execution_count": 17,
   "metadata": {
    "deletable": false,
    "editable": false,
    "nbgrader": {
     "cell_type": "code",
     "checksum": "fd872cbb394b333edd66e9829a4fa73c",
     "grade": false,
     "grade_id": "cell-016d41309d106a52",
     "locked": true,
     "schema_version": 3,
     "solution": false,
     "task": false
    }
   },
   "outputs": [],
   "source": [
    "completedTrades = []"
   ]
  },
  {
   "cell_type": "code",
   "execution_count": 18,
   "metadata": {
    "deletable": false,
    "nbgrader": {
     "cell_type": "code",
     "checksum": "39ab20836a00f517ddff52a802986273",
     "grade": false,
     "grade_id": "cell-f6106fcbf78adf23",
     "locked": false,
     "schema_version": 3,
     "solution": true,
     "task": false
    }
   },
   "outputs": [],
   "source": [
    "for quote in quotedTrades:\n",
    "    response = hf.show(quote)\n",
    "    completedTrades.append(response)"
   ]
  },
  {
   "cell_type": "code",
   "execution_count": 19,
   "metadata": {
    "deletable": false,
    "editable": false,
    "nbgrader": {
     "cell_type": "code",
     "checksum": "05c24cace5516a5072bd95de3879215a",
     "grade": true,
     "grade_id": "cell-e0e2f0e2c0c47ed2",
     "locked": true,
     "points": 1,
     "schema_version": 3,
     "solution": false,
     "task": false
    }
   },
   "outputs": [
    {
     "name": "stdout",
     "output_type": "stream",
     "text": [
      "Submission ready\n"
     ]
    }
   ],
   "source": [
    "def Submit(completedTrades):\n",
    "    print(\"Submission ready\")\n",
    "d_score = Submit(completedTrades)\n"
   ]
  },
  {
   "cell_type": "markdown",
   "metadata": {
    "deletable": false,
    "editable": false,
    "nbgrader": {
     "cell_type": "markdown",
     "checksum": "5284d1f19903d5648f024addfd5ced1e",
     "grade": false,
     "grade_id": "cell-2eb48c71b1867f57",
     "locked": true,
     "schema_version": 3,
     "solution": false,
     "task": false
    }
   },
   "source": [
    "### e) Store the quotedTrades and completedTrades in the MM object\n",
    "\n",
    "#### As a Market Maker, it is imperative to keep a log of the trades you have quoted and clients' responses. As a result, interact with the MM object to store the quotedTrades and completedTrades lists into the logs."
   ]
  },
  {
   "cell_type": "code",
   "execution_count": 20,
   "metadata": {
    "deletable": false,
    "editable": false,
    "nbgrader": {
     "cell_type": "code",
     "checksum": "a44920a859432a682aa46e52a28ac36e",
     "grade": false,
     "grade_id": "cell-e594040914e04f9c",
     "locked": true,
     "schema_version": 3,
     "solution": false,
     "task": false
    }
   },
   "outputs": [],
   "source": [
    "mm = MarketMaker.mm()"
   ]
  },
  {
   "cell_type": "code",
   "execution_count": 21,
   "metadata": {
    "deletable": false,
    "nbgrader": {
     "cell_type": "code",
     "checksum": "207da5afc3085e6855f14adbe6d79ceb",
     "grade": false,
     "grade_id": "cell-cb05edf6a52feea0",
     "locked": false,
     "schema_version": 3,
     "solution": true,
     "task": false
    }
   },
   "outputs": [
    {
     "name": "stdout",
     "output_type": "stream",
     "text": [
      "[<__main__.QuotedTrade object at 0x7ff71ae3c0d0>, <__main__.QuotedTrade object at 0x7ff71ae3c310>, <__main__.QuotedTrade object at 0x7ff71ae3c2d0>, <__main__.QuotedTrade object at 0x7ff71ae3c250>, <__main__.QuotedTrade object at 0x7ff71ae3c290>, <__main__.QuotedTrade object at 0x7ff71ae3c190>, <__main__.QuotedTrade object at 0x7ff71ae3c210>, <__main__.QuotedTrade object at 0x7ff71ae3c110>, <__main__.QuotedTrade object at 0x7ff71ae3c090>, <__main__.QuotedTrade object at 0x7ff71ae3c1d0>]\n",
      "\n",
      "[<__main__.CompletedTrade object at 0x7ff71aee8f90>, <__main__.CompletedTrade object at 0x7ff71aee89d0>, <__main__.CompletedTrade object at 0x7ff71ae39350>, <__main__.CompletedTrade object at 0x7ff71aeecc50>, <__main__.CompletedTrade object at 0x7ff71aeecdd0>, <__main__.CompletedTrade object at 0x7ff71aeecc90>, <__main__.CompletedTrade object at 0x7ff71aeecfd0>, <__main__.CompletedTrade object at 0x7ff71aeeca90>, <__main__.CompletedTrade object at 0x7ff71aeece50>, <__main__.CompletedTrade object at 0x7ff71aeec450>]\n"
     ]
    }
   ],
   "source": [
    "for quote in quotedTrades:\n",
    "    mm.addQuotedTrade(quote)\n",
    "    \n",
    "for response in completedTrades:\n",
    "    mmAction = \"\"\n",
    "    if response.hfAction ==  \"buy\":\n",
    "        mmAction = \"sell\"\n",
    "    elif response.hfAction == \"sell\":\n",
    "        mmAction = \"buy\"\n",
    "    else:\n",
    "        mmAction = \"refuse\"    \n",
    "    completedTrade = CompletedTrade(response.ticker, response.tradeVolume, response.tradePrice, mmAction, response.date)\n",
    "    mm.addTrade(completedTrade)\n",
    "print(mm.quotedTrades)\n",
    "print()\n",
    "print(mm.completedTrades)"
   ]
  },
  {
   "cell_type": "code",
   "execution_count": 22,
   "metadata": {
    "deletable": false,
    "editable": false,
    "nbgrader": {
     "cell_type": "code",
     "checksum": "841640112e6ff69c2131f5c7f55a8443",
     "grade": true,
     "grade_id": "cell-92ae5fee0027d4eb",
     "locked": true,
     "points": 1,
     "schema_version": 3,
     "solution": false,
     "task": false
    }
   },
   "outputs": [
    {
     "name": "stdout",
     "output_type": "stream",
     "text": [
      "Submission ready\n"
     ]
    }
   ],
   "source": [
    "def Submit(mm, quotedTrades, completedTrades):\n",
    "    print(\"Submission ready\")\n",
    "e_score = Submit(mm, quotedTrades, completedTrades)\n"
   ]
  },
  {
   "cell_type": "markdown",
   "metadata": {
    "deletable": false,
    "editable": false,
    "nbgrader": {
     "cell_type": "markdown",
     "checksum": "6719ec8a42f58b4a59092a3f2cdc245f",
     "grade": false,
     "grade_id": "cell-e1ce2acbe9d65639",
     "locked": true,
     "schema_version": 3,
     "solution": false,
     "task": false
    }
   },
   "source": [
    "### f) Create one graphical output for AAPL quotedTrades\n",
    "\n",
    "#### The graph should be created using the matplotlib library. It should show all the quotedTrades you completed for the ticker AAPL and visualise the *Bid, Ask and Reference Price* against *Date*."
   ]
  },
  {
   "cell_type": "code",
   "execution_count": 23,
   "metadata": {
    "deletable": false,
    "editable": false,
    "nbgrader": {
     "cell_type": "code",
     "checksum": "4488341c3de1f743583e55b77ddbd553",
     "grade": false,
     "grade_id": "cell-c5c47f389615c183",
     "locked": true,
     "schema_version": 3,
     "solution": false,
     "task": false
    }
   },
   "outputs": [],
   "source": [
    "axes = None\n",
    "bidData = []\n",
    "offerData = []\n",
    "quoteDates = []\n",
    "refData = []\n",
    "refDates = []"
   ]
  },
  {
   "cell_type": "markdown",
   "metadata": {
    "deletable": false,
    "editable": false,
    "nbgrader": {
     "cell_type": "markdown",
     "checksum": "5257fd541e44a16dbdf370bd4f8cd964",
     "grade": false,
     "grade_id": "cell-aceae13b6bb52fd5",
     "locked": true,
     "schema_version": 3,
     "solution": false,
     "task": false
    }
   },
   "source": [
    "#### Initialise your plot with the <python>fig, axes = plt.subplots() </python> function. Populate the lists you are given, and plot them using <python>axes.plot()</python>."
   ]
  },
  {
   "cell_type": "code",
   "execution_count": 24,
   "metadata": {
    "deletable": false,
    "nbgrader": {
     "cell_type": "code",
     "checksum": "d650d5a428f8b7ec69518c8058836586",
     "grade": false,
     "grade_id": "cell-ee63e401086f7686",
     "locked": false,
     "schema_version": 3,
     "solution": true,
     "task": false
    }
   },
   "outputs": [
    {
     "data": {
      "text/plain": [
       "[<matplotlib.lines.Line2D at 0x7ff71afbc790>]"
      ]
     },
     "execution_count": 24,
     "metadata": {},
     "output_type": "execute_result"
    },
    {
     "data": {
      "image/png": "[encoded data removed]",
      "text/plain": [
       "<Figure size 432x288 with 1 Axes>"
      ]
     },
     "metadata": {
      "needs_background": "light"
     },
     "output_type": "display_data"
    }
   ],
   "source": [
    "axes = plt.subplot()\n",
    "\n",
    "quotedTrades = mm.quotedTrades\n",
    "completedTrades = mm.completedTrades\n",
    "\n",
    "for quote in quotedTrades:\n",
    "    for trade in completedTrades:\n",
    "        if quote.ticker == \"AAPL\" and quote.date == trade.date:\n",
    "            quoteDates.append(trade.date)\n",
    "            bidData.append(quote.bidPrice)\n",
    "            offerData.append(quote.offerPrice)\n",
    "        \n",
    "for price in prices:\n",
    "    if price[1] <= quoteDates[-1] and price[0] == \"AAPL\":\n",
    "        refData.append(price[2])\n",
    "        refDates.append(price[1])\n",
    "        \n",
    "axes.plot(quoteDates, bidData)\n",
    "axes.plot(refDates, refData)\n",
    "axes.plot(quoteDates, offerData)"
   ]
  },
  {
   "cell_type": "code",
   "execution_count": 25,
   "metadata": {
    "deletable": false,
    "editable": false,
    "nbgrader": {
     "cell_type": "code",
     "checksum": "a45995f0d02e86204246a93ce0d0c919",
     "grade": true,
     "grade_id": "cell-48a06ca8c2b89114",
     "locked": true,
     "points": 1,
     "schema_version": 3,
     "solution": false,
     "task": false
    }
   },
   "outputs": [
    {
     "name": "stdout",
     "output_type": "stream",
     "text": [
      "Submission ready\n"
     ]
    }
   ],
   "source": [
    "def Submit(axes, bidData, offerData, refData):\n",
    "    print(\"Submission ready\")\n",
    "f_score = Submit(axes, bidData, offerData, refData)\n"
   ]
  },
  {
   "cell_type": "code",
   "execution_count": 26,
   "metadata": {
    "deletable": false,
    "editable": false,
    "nbgrader": {
     "cell_type": "code",
     "checksum": "6601f096fa65712c3568b3cfb43b5ce6",
     "grade": true,
     "grade_id": "cell-8303ecb253134edc",
     "locked": true,
     "points": 0,
     "schema_version": 3,
     "solution": false,
     "task": false
    }
   },
   "outputs": [
    {
     "name": "stdout",
     "output_type": "stream",
     "text": [
      "Submission ready\n"
     ]
    }
   ],
   "source": [
    "def Submit(mm, a_score, b_score, c_score, d_score, e_score, f_score):\n",
    "    print(\"Submission ready\")\n",
    "Submit(mm, a_score, b_score, c_score, d_score, e_score, f_score)"
   ]
  },
  {
   "cell_type": "markdown",
   "metadata": {
    "deletable": false,
    "editable": false,
    "nbgrader": {
     "cell_type": "markdown",
     "checksum": "451f98822fd3ee2248bf9884f51647c5",
     "grade": false,
     "grade_id": "986049254f29a0411",
     "locked": true,
     "schema_version": 3,
     "solution": false,
     "task": false
    }
   },
   "source": [
    "# Level Two\n",
    "\n",
    "## 2. Accessing all price requests and creating skewed prices"
   ]
  },
  {
   "cell_type": "code",
   "execution_count": 27,
   "metadata": {},
   "outputs": [],
   "source": [
    "#Taking position of risk into account\n",
    "#if youy executed a trade and bought you are axed long\n",
    "#for the next trade need to balance this out\n",
    "#if we have client who wants same as previous we want to skew the bid and offer so we are more likely to \n",
    "#sell off long position "
   ]
  },
  {
   "cell_type": "code",
   "execution_count": 28,
   "metadata": {
    "deletable": false,
    "editable": false,
    "nbgrader": {
     "cell_type": "code",
     "checksum": "de3ddae30b13c029ab7f63780af8e5d8",
     "grade": false,
     "grade_id": "cell-4cdb572ee805ed6e",
     "locked": true,
     "schema_version": 3,
     "solution": false,
     "task": false
    }
   },
   "outputs": [],
   "source": [
    "mm = MarketMaker.mm()"
   ]
  },
  {
   "cell_type": "markdown",
   "metadata": {
    "deletable": false,
    "editable": false,
    "nbgrader": {
     "cell_type": "markdown",
     "checksum": "b95a48e024c8b625f62c603a0fc000cb",
     "grade": false,
     "grade_id": "cell-a10b92c6347298d2",
     "locked": true,
     "schema_version": 3,
     "solution": false,
     "task": false
    }
   },
   "source": [
    "### a) Combine your knowledge from level one to create an algorithm to interpret all price requests and provide skewed bid and ask values based on the firm's risk positions.\n",
    "\n",
    "#### Using the MM function, access the *balance* to determine the firms risk at any given moment. You will then need to use this information to decide if you're Axed Long, Axed Short or Neutral in your position. This will then be reflected in your Bid and Ask prices. \n",
    "\n",
    "#### While doing this task, you must remember to log any *quotedTrades* and *completedTrades* to your MM object or risk being fined for poor risk management."
   ]
  },
  {
   "cell_type": "code",
   "execution_count": 33,
   "metadata": {
    "deletable": false,
    "nbgrader": {
     "cell_type": "code",
     "checksum": "6e63c134e0db3d0344febb93e9f11d97",
     "grade": false,
     "grade_id": "cell-d54961d5b5548149",
     "locked": false,
     "schema_version": 3,
     "solution": true,
     "task": false
    }
   },
   "outputs": [
    {
     "ename": "AttributeError",
     "evalue": "'CompletedTrade' object has no attribute 'hfAction'",
     "output_type": "error",
     "traceback": [
      "\u001b[0;31m---------------------------------------------------------------------------\u001b[0m",
      "\u001b[0;31mAttributeError\u001b[0m                            Traceback (most recent call last)",
      "\u001b[0;32m<ipython-input-33-e332d6ce8862>\u001b[0m in \u001b[0;36m<module>\u001b[0;34m\u001b[0m\n\u001b[1;32m      8\u001b[0m \u001b[0;32mfor\u001b[0m \u001b[0mresponse\u001b[0m \u001b[0;32min\u001b[0m \u001b[0mcompletedTrades\u001b[0m\u001b[0;34m:\u001b[0m\u001b[0;34m\u001b[0m\u001b[0;34m\u001b[0m\u001b[0m\n\u001b[1;32m      9\u001b[0m     \u001b[0mmmAction\u001b[0m \u001b[0;34m=\u001b[0m \u001b[0;34m\"\"\u001b[0m\u001b[0;34m\u001b[0m\u001b[0;34m\u001b[0m\u001b[0m\n\u001b[0;32m---> 10\u001b[0;31m     \u001b[0;32mif\u001b[0m \u001b[0mresponse\u001b[0m\u001b[0;34m.\u001b[0m\u001b[0mhfAction\u001b[0m \u001b[0;34m==\u001b[0m  \u001b[0;34m\"buy\"\u001b[0m\u001b[0;34m:\u001b[0m \u001b[0;31m#axed long\u001b[0m\u001b[0;34m\u001b[0m\u001b[0;34m\u001b[0m\u001b[0m\n\u001b[0m\u001b[1;32m     11\u001b[0m         \u001b[0mnewbalance\u001b[0m \u001b[0;34m=\u001b[0m \u001b[0mbalance\u001b[0m\u001b[0;34m-\u001b[0m\u001b[0mmmAction\u001b[0m\u001b[0;34m\u001b[0m\u001b[0;34m\u001b[0m\u001b[0m\n\u001b[1;32m     12\u001b[0m         \u001b[0mmmAction\u001b[0m \u001b[0;34m=\u001b[0m \u001b[0;34m\"sell\"\u001b[0m\u001b[0;34m\u001b[0m\u001b[0;34m\u001b[0m\u001b[0m\n",
      "\u001b[0;31mAttributeError\u001b[0m: 'CompletedTrade' object has no attribute 'hfAction'"
     ]
    }
   ],
   "source": [
    "for quote in quotedTrades:\n",
    "    response = hf.show(quote)\n",
    "    completedTrades.append(response)\n",
    "    \n",
    "risk = int(mm.currentPositions[\"AAPL\"].positionVolume)\n",
    "\n",
    "    \n",
    "for response in completedTrades:\n",
    "    mmAction = \"\"\n",
    "    if response.hfAction ==  \"buy\": #axed long\n",
    "        newbalance = balance-mmAction\n",
    "        mmAction = \"sell\" \n",
    "        print(newbalance)\n",
    "    elif response.hfAction == \"sell\": #axed short\n",
    "        newbalance = balance+mmAction\n",
    "        mmAction = \"buy\" \n",
    "        print(newbalance)\n",
    "    else:\n",
    "        mmAction = \"neutral\"    \n",
    "    completedTrade = CompletedTrade(response.ticker, response.tradeVolume, response.tradePrice, mmAction, response.date)\n",
    "    mm.addTrade(completedTrade)\n",
    "print(mm.quotedTrades)\n",
    "print()\n",
    "print(mm.completedTrades)"
   ]
  },
  {
   "cell_type": "code",
   "execution_count": 30,
   "metadata": {
    "deletable": false,
    "editable": false,
    "nbgrader": {
     "cell_type": "code",
     "checksum": "3f4a3fe450373e7fe41b3348617118e7",
     "grade": true,
     "grade_id": "cell-7b49a3c2a6956eab",
     "locked": true,
     "points": 1,
     "schema_version": 3,
     "solution": false,
     "task": false
    }
   },
   "outputs": [
    {
     "name": "stdout",
     "output_type": "stream",
     "text": [
      "Submission ready\n"
     ]
    }
   ],
   "source": [
    "def Submit(mm):\n",
    "    print(\"Submission ready\")\n",
    "Submit(mm)"
   ]
  },
  {
   "cell_type": "markdown",
   "metadata": {
    "deletable": false,
    "editable": false,
    "nbgrader": {
     "cell_type": "markdown",
     "checksum": "b4a28fd9a457a557a260c7f09d126f96",
     "grade": false,
     "grade_id": "cell-200fbeedcf2a5d70",
     "locked": true,
     "schema_version": 3,
     "solution": false,
     "task": false
    }
   },
   "source": [
    "### b) Create graphical outputs for all the tickers you quotedTrades\n",
    "\n",
    "#### Similar to the graph created in Level One however it should be done for all the different tickers dealt for the HF client."
   ]
  },
  {
   "cell_type": "code",
   "execution_count": 31,
   "metadata": {
    "deletable": false,
    "nbgrader": {
     "cell_type": "code",
     "checksum": "9ca940bc04723e45f8d963c014586cdb",
     "grade": false,
     "grade_id": "cell-94618ea7fe2d603a",
     "locked": false,
     "schema_version": 3,
     "solution": true,
     "task": false
    }
   },
   "outputs": [
    {
     "ename": "NameError",
     "evalue": "name 'quotedTrade' is not defined",
     "output_type": "error",
     "traceback": [
      "\u001b[0;31m---------------------------------------------------------------------------\u001b[0m",
      "\u001b[0;31mNameError\u001b[0m                                 Traceback (most recent call last)",
      "\u001b[0;32m<ipython-input-31-65e23e9b753a>\u001b[0m in \u001b[0;36m<module>\u001b[0;34m\u001b[0m\n\u001b[0;32m----> 1\u001b[0;31m \u001b[0mhf\u001b[0m\u001b[0;34m.\u001b[0m\u001b[0mshow\u001b[0m\u001b[0;34m(\u001b[0m\u001b[0mquotedTrade\u001b[0m\u001b[0;34m)\u001b[0m\u001b[0;34m\u001b[0m\u001b[0;34m\u001b[0m\u001b[0m\n\u001b[0m\u001b[1;32m      2\u001b[0m \u001b[0maxes\u001b[0m \u001b[0;34m=\u001b[0m \u001b[0mplt\u001b[0m\u001b[0;34m.\u001b[0m\u001b[0msubplot\u001b[0m\u001b[0;34m(\u001b[0m\u001b[0;34m)\u001b[0m\u001b[0;34m\u001b[0m\u001b[0;34m\u001b[0m\u001b[0m\n\u001b[1;32m      3\u001b[0m \u001b[0;34m\u001b[0m\u001b[0m\n\u001b[1;32m      4\u001b[0m \u001b[0mquotedTrades\u001b[0m \u001b[0;34m=\u001b[0m \u001b[0mmm\u001b[0m\u001b[0;34m.\u001b[0m\u001b[0mquotedTrades\u001b[0m\u001b[0;34m\u001b[0m\u001b[0;34m\u001b[0m\u001b[0m\n\u001b[1;32m      5\u001b[0m \u001b[0mcompletedTrades\u001b[0m \u001b[0;34m=\u001b[0m \u001b[0mmm\u001b[0m\u001b[0;34m.\u001b[0m\u001b[0mcompletedTrades\u001b[0m\u001b[0;34m\u001b[0m\u001b[0;34m\u001b[0m\u001b[0m\n",
      "\u001b[0;31mNameError\u001b[0m: name 'quotedTrade' is not defined"
     ]
    }
   ],
   "source": [
    "hf.show(quotedTrade)\n",
    "axes = plt.subplot()\n",
    "\n",
    "quotedTrades = mm.quotedTrades\n",
    "completedTrades = mm.completedTrades\n",
    "\n",
    "for quote in quotedTrades:\n",
    "    for trade in completedTrades:\n",
    "        if quote.ticker == \"AAPL\" and quote.date == trade.date:\n",
    "            quoteDates.append(trade.date)\n",
    "            bidData.append(quote.bidPrice)\n",
    "            offerData.append(quote.offerPrice)\n",
    "        \n",
    "for price in prices:\n",
    "    if price[1] <= quoteDates[-1] and price[0] == \"AAPL\":\n",
    "        refData.append(price[2])\n",
    "        refDates.append(price[1])\n",
    "        \n",
    "axes.plot(quoteDates, bidData)\n",
    "axes.plot(refDates, refData)\n",
    "axes.plot(quoteDates, offerData)"
   ]
  },
  {
   "cell_type": "markdown",
   "metadata": {
    "deletable": false,
    "editable": false,
    "nbgrader": {
     "cell_type": "markdown",
     "checksum": "c1c841712a7924304bb2e8446c837f6c",
     "grade": false,
     "grade_id": "986049254f29a049",
     "locked": true,
     "schema_version": 3,
     "solution": false,
     "task": false
    }
   },
   "source": [
    "# Level Three\n",
    "\n",
    "## 3. Analysing positions of risk to hedge accurately with the FAANG ETF"
   ]
  },
  {
   "cell_type": "code",
   "execution_count": 32,
   "metadata": {
    "deletable": false,
    "editable": false,
    "nbgrader": {
     "cell_type": "code",
     "checksum": "5a17f80546671c1d5048d6384f4c89bd",
     "grade": false,
     "grade_id": "cell-2547dbbb1c77936a",
     "locked": true,
     "schema_version": 3,
     "solution": false,
     "task": false
    }
   },
   "outputs": [],
   "source": [
    "mm = MarketMaker.mm()"
   ]
  },
  {
   "cell_type": "markdown",
   "metadata": {
    "deletable": false,
    "editable": false,
    "nbgrader": {
     "cell_type": "markdown",
     "checksum": "f042ef3c5f6688bbf3ca695d80d2f40b",
     "grade": false,
     "grade_id": "cell-0b64c479a1c8b332",
     "locked": true,
     "schema_version": 3,
     "solution": false,
     "task": false
    }
   },
   "source": [
    "### a) Using your code from Level Two, add a simple FAANG ETF hedge using the nominal values of each asset being traded.\n",
    "\n",
    "#### When a completed trade has been received from the HF object, you're now to hedge the firm's risk using the FAANG ETF. Determine the volume and current reference price to find the nominal value for the position of risk the firm now holds; this value should then be used to hedge using the FAANG ETF.\n",
    "\n",
    "#### Once you have determined how much of the FAANG ETF should be purchased, you need to create an ExchangeTrade object to interact with the exchange and complete the trade. You should then log this trade in the *updateETFPosition* function on the MM object."
   ]
  },
  {
   "cell_type": "code",
   "execution_count": null,
   "metadata": {
    "deletable": false,
    "nbgrader": {
     "cell_type": "code",
     "checksum": "94d83effda04febf565488e2dd39e35a",
     "grade": false,
     "grade_id": "cell-a4a558b2b5194642",
     "locked": false,
     "schema_version": 3,
     "solution": true,
     "task": false
    }
   },
   "outputs": [],
   "source": [
    "# your code here"
   ]
  },
  {
   "cell_type": "markdown",
   "metadata": {
    "deletable": false,
    "editable": false,
    "nbgrader": {
     "cell_type": "markdown",
     "checksum": "e7065db92cbb5346a12b41a4ad0a86e1",
     "grade": false,
     "grade_id": "cell-791ed5a6063aec69",
     "locked": true,
     "schema_version": 3,
     "solution": false,
     "task": false
    }
   },
   "source": [
    "### Click the space below to help explain your thought process for this task and any improvements in your code"
   ]
  },
  {
   "cell_type": "markdown",
   "metadata": {
    "deletable": false,
    "nbgrader": {
     "cell_type": "markdown",
     "checksum": "3953c5c108d3875f41e860c1c1456897",
     "grade": true,
     "grade_id": "cell-d401be3a3e4ce7cf",
     "locked": false,
     "points": 0,
     "schema_version": 3,
     "solution": true,
     "task": false
    }
   },
   "source": [
    "YOUR ANSWER HERE"
   ]
  },
  {
   "cell_type": "code",
   "execution_count": null,
   "metadata": {
    "deletable": false,
    "editable": false,
    "nbgrader": {
     "cell_type": "code",
     "checksum": "b8a0e728d968e2b6a163ddb3e757453f",
     "grade": true,
     "grade_id": "cell-1b3b13e2787e1be7",
     "locked": true,
     "points": 1,
     "schema_version": 3,
     "solution": false,
     "task": false
    }
   },
   "outputs": [],
   "source": [
    "def Submit(mm):\n",
    "    print(\"Submission ready\")\n",
    "Submit(mm)"
   ]
  },
  {
   "cell_type": "markdown",
   "metadata": {
    "deletable": false,
    "editable": false,
    "nbgrader": {
     "cell_type": "markdown",
     "checksum": "7c3f90f4cfcf945d2ef2fc7111c63cee",
     "grade": false,
     "grade_id": "cell-fd91340b0f8e082a",
     "locked": true,
     "schema_version": 3,
     "solution": false,
     "task": false
    }
   },
   "source": [
    "### b) Create graphical output of the combined risk nominal value over time\n",
    "\n",
    "#### This will be the nominal value for all risk at any given time from the position you have open. This data will be stored in the balance."
   ]
  },
  {
   "cell_type": "code",
   "execution_count": null,
   "metadata": {
    "deletable": false,
    "nbgrader": {
     "cell_type": "code",
     "checksum": "f8af445d28fe4cc4128392e252094eb1",
     "grade": false,
     "grade_id": "cell-95ed3c3016595379",
     "locked": false,
     "schema_version": 3,
     "solution": true,
     "task": false
    }
   },
   "outputs": [],
   "source": [
    "# your code here"
   ]
  },
  {
   "cell_type": "markdown",
   "metadata": {
    "deletable": false,
    "editable": false,
    "nbgrader": {
     "cell_type": "markdown",
     "checksum": "4b794295aa10772db63a44424678d003",
     "grade": false,
     "grade_id": "cell-0e078f97f9619a8f",
     "locked": true,
     "schema_version": 3,
     "solution": false,
     "task": false
    }
   },
   "source": [
    "### c) Create graphical output of the FAANG ETF nominal value position over time\n",
    "\n",
    "#### This will be the nominal value for the firm's FAANG ETF at any given time. This data will be stored in the balance."
   ]
  },
  {
   "cell_type": "code",
   "execution_count": null,
   "metadata": {
    "deletable": false,
    "nbgrader": {
     "cell_type": "code",
     "checksum": "6cdd203ab6977730e33aeacea6a25254",
     "grade": false,
     "grade_id": "cell-a8c9d21b6c905b21",
     "locked": false,
     "schema_version": 3,
     "solution": true,
     "task": false
    }
   },
   "outputs": [],
   "source": [
    "# your code here"
   ]
  },
  {
   "cell_type": "markdown",
   "metadata": {
    "deletable": false,
    "editable": false,
    "nbgrader": {
     "cell_type": "markdown",
     "checksum": "6341b1ef7373211379e57de15b0de8db",
     "grade": false,
     "grade_id": "986049254f2",
     "locked": true,
     "schema_version": 3,
     "solution": false,
     "task": false
    }
   },
   "source": [
    "# Level Four\n",
    "\n",
    "## 4. Analysing positions of risk to hedge using correlation of risk against FAANG ETF"
   ]
  },
  {
   "cell_type": "code",
   "execution_count": null,
   "metadata": {},
   "outputs": [],
   "source": [
    "mm = MarketMaker.mm()"
   ]
  },
  {
   "cell_type": "markdown",
   "metadata": {
    "deletable": false,
    "editable": false,
    "nbgrader": {
     "cell_type": "markdown",
     "checksum": "4b4563e9f5253f7afcf8165dba20e673",
     "grade": false,
     "grade_id": "cell-a3a45c0c5f1fdcd9",
     "locked": true,
     "schema_version": 3,
     "solution": false,
     "task": false
    }
   },
   "source": [
    "### a) Using your code from Level Two, add a hedge that is determined by the correlation of the risk taken on against the FAANG ETF\n",
    "\n",
    "#### The FAANG ETF is an exchange traded product that is made up of 5 component equity assets. The 5 assets are all US technology stocks: Facebook, Apple, Amazon, Netflix, Google. The price movement of US technology stocks generally show a high level of correlation, meaning they move in tandem because of macro-economic trends. However, the correlation is not perfect because the price each individual component will also be influenced by micro factors specific to each company. One way a trader can manage their risk exposure is to individual stocks is to take an equal and opposite position in the correlated ETF. \n",
    "\n",
    "#### Once you have determined how much of the FAANG ETF should be purchased, you need to create an ExchangeTrade object to interact with the exchange and complete the trade. You should then log this trade in the *updateETFPosition* function on the MM object."
   ]
  },
  {
   "cell_type": "code",
   "execution_count": null,
   "metadata": {
    "deletable": false,
    "nbgrader": {
     "cell_type": "code",
     "checksum": "588fa7a956b4a1f7ff457eb8763350a9",
     "grade": false,
     "grade_id": "cell-00ab42300015e76a",
     "locked": false,
     "schema_version": 3,
     "solution": true,
     "task": false
    }
   },
   "outputs": [],
   "source": [
    "# your code here"
   ]
  },
  {
   "cell_type": "markdown",
   "metadata": {
    "deletable": false,
    "editable": false,
    "nbgrader": {
     "cell_type": "markdown",
     "checksum": "f13f94a1da613ebb7ed6b15bdd7fba55",
     "grade": false,
     "grade_id": "cell-d1da0d3d30f4ca42",
     "locked": true,
     "schema_version": 3,
     "solution": false,
     "task": false
    }
   },
   "source": [
    "### Click the space below to help describe the concept for how you approached this task"
   ]
  },
  {
   "cell_type": "markdown",
   "metadata": {
    "deletable": false,
    "nbgrader": {
     "cell_type": "markdown",
     "checksum": "e62b21dbd235ff511ab225c2b5fc24e0",
     "grade": true,
     "grade_id": "cell-09554f3bbb4ef791",
     "locked": false,
     "points": 0,
     "schema_version": 3,
     "solution": true,
     "task": false
    }
   },
   "source": [
    "YOUR ANSWER HERE"
   ]
  },
  {
   "cell_type": "markdown",
   "metadata": {
    "deletable": false,
    "editable": false,
    "nbgrader": {
     "cell_type": "markdown",
     "checksum": "71115a31150dfde51c93125c0a329178",
     "grade": false,
     "grade_id": "cell-b97b9d003cd3ac1f",
     "locked": true,
     "schema_version": 3,
     "solution": false,
     "task": false
    }
   },
   "source": [
    "### b) Create graphical output of the combined risk nominal value over time\n",
    "\n",
    "#### This will be the nominal value for all risk at any given time from the position you have open. This data will be stored in the balance."
   ]
  },
  {
   "cell_type": "code",
   "execution_count": null,
   "metadata": {
    "deletable": false,
    "nbgrader": {
     "cell_type": "code",
     "checksum": "7a9894df3a3450c771ff728823545551",
     "grade": false,
     "grade_id": "cell-e84d8802c17a1859",
     "locked": false,
     "schema_version": 3,
     "solution": true,
     "task": false
    }
   },
   "outputs": [],
   "source": [
    "# your code here"
   ]
  },
  {
   "cell_type": "markdown",
   "metadata": {
    "deletable": false,
    "editable": false,
    "nbgrader": {
     "cell_type": "markdown",
     "checksum": "5eb61ca836e0127bab55c8462b05a37d",
     "grade": false,
     "grade_id": "cell-0f44bf882a5a19f0",
     "locked": true,
     "schema_version": 3,
     "solution": false,
     "task": false
    }
   },
   "source": [
    "### c) Create graphical output of the FAANG ETF nominal value position over time\n",
    "\n",
    "#### This will be the nominal value for the firm's FAANG ETF at any given time. This data will be stored in the balance."
   ]
  },
  {
   "cell_type": "code",
   "execution_count": null,
   "metadata": {
    "deletable": false,
    "nbgrader": {
     "cell_type": "code",
     "checksum": "8d12c9166c7c93073b4e8c326c6f9745",
     "grade": false,
     "grade_id": "cell-069a7f350801c966",
     "locked": false,
     "schema_version": 3,
     "solution": true,
     "task": false
    }
   },
   "outputs": [],
   "source": [
    "# your code here"
   ]
  }
 ],
 "metadata": {
  "kernelspec": {
   "display_name": "Python 3",
   "language": "python",
   "name": "python3"
  },
  "language_info": {
   "codemirror_mode": {
    "name": "ipython",
    "version": 3
   },
   "file_extension": ".py",
   "mimetype": "text/x-python",
   "name": "python",
   "nbconvert_exporter": "python",
   "pygments_lexer": "ipython3",
   "version": "3.7.6"
  }
 },
 "nbformat": 4,
 "nbformat_minor": 4
}
